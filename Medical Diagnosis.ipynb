{
 "cells": [
  {
   "cell_type": "markdown",
   "metadata": {
    "id": "XGQ_b9nalWXr"
   },
   "source": [
    "# Medical Diagnosis using Bayes Nets"
   ]
  },
  {
   "cell_type": "markdown",
   "metadata": {
    "id": "bM59BQkulWXu"
   },
   "source": [
    "A drug company would like to introduce a drug to help patients with Alzheimer's. It is desirable to estimate $θ$, the proportion of the market share that this drug will capture. \n",
    "- The company interviews 100 people and 15 of them say that they will buy the drug. (This the observed data: n=100, observed=15) $->$ likelihood\n",
    "- If in the past new drugs tend to capture a proportion between say .10 and .40 of the market, and if all values in between are assumed equally likely, then $θ ∼ Unif(0.10, 0.40)$ $->$ prior"
   ]
  },
  {
   "cell_type": "markdown",
   "metadata": {
    "id": "SiP2yET5lWXu"
   },
   "source": [
    "### What is the traceplot of $\\theta$ using Bayesian analysis to estimate the market share for the new drug?\n",
    "- Sample 10000 draws\n",
    "- Plot the traceplot"
   ]
  },
  {
   "cell_type": "code",
   "execution_count": 71,
   "metadata": {
    "id": "Qefv-kCQllVL"
   },
   "outputs": [],
   "source": [
    "#!python --version\n",
    "#!pip install pymc3==3.10\n",
    "#!pip install arviz==0.10"
   ]
  },
  {
   "cell_type": "code",
   "execution_count": 1,
   "metadata": {
    "id": "D-atpPHLlWXu"
   },
   "outputs": [],
   "source": [
    "import pymc3 as pm\n",
    "import arviz as az"
   ]
  },
  {
   "cell_type": "code",
   "execution_count": 2,
   "metadata": {
    "colab": {
     "base_uri": "https://localhost:8080/",
     "height": 405
    },
    "id": "lQYp6AhrlWXv",
    "outputId": "84bef329-1077-430e-e4ec-ab8c40139305"
   },
   "outputs": [
    {
     "name": "stderr",
     "output_type": "stream",
     "text": [
      "/usr/local/lib/python3.7/dist-packages/pymc3/sampling.py:468: FutureWarning: In an upcoming release, pm.sample will return an `arviz.InferenceData` object instead of a `MultiTrace` by default. You can pass return_inferencedata=True or return_inferencedata=False to be safe and silence this warning.\n",
      "  FutureWarning,\n",
      "Auto-assigning NUTS sampler...\n",
      "Initializing NUTS using jitter+adapt_diag...\n",
      "Sequential sampling (4 chains in 1 job)\n",
      "NUTS: [theta]\n"
     ]
    },
    {
     "data": {
      "text/html": [
       "\n",
       "    <div>\n",
       "        <style>\n",
       "            /* Turns off some styling */\n",
       "            progress {\n",
       "                /* gets rid of default border in Firefox and Opera. */\n",
       "                border: none;\n",
       "                /* Needs to be in here for Safari polyfill so background images work as expected. */\n",
       "                background-size: auto;\n",
       "            }\n",
       "            .progress-bar-interrupted, .progress-bar-interrupted::-webkit-progress-bar {\n",
       "                background: #F44336;\n",
       "            }\n",
       "        </style>\n",
       "      <progress value='11000' class='' max='11000' style='width:300px; height:20px; vertical-align: middle;'></progress>\n",
       "      100.00% [11000/11000 00:05<00:00 Sampling chain 0, 0 divergences]\n",
       "    </div>\n",
       "    "
      ],
      "text/plain": [
       "<IPython.core.display.HTML object>"
      ]
     },
     "metadata": {
      "tags": []
     },
     "output_type": "display_data"
    },
    {
     "data": {
      "text/html": [
       "\n",
       "    <div>\n",
       "        <style>\n",
       "            /* Turns off some styling */\n",
       "            progress {\n",
       "                /* gets rid of default border in Firefox and Opera. */\n",
       "                border: none;\n",
       "                /* Needs to be in here for Safari polyfill so background images work as expected. */\n",
       "                background-size: auto;\n",
       "            }\n",
       "            .progress-bar-interrupted, .progress-bar-interrupted::-webkit-progress-bar {\n",
       "                background: #F44336;\n",
       "            }\n",
       "        </style>\n",
       "      <progress value='11000' class='' max='11000' style='width:300px; height:20px; vertical-align: middle;'></progress>\n",
       "      100.00% [11000/11000 00:05<00:00 Sampling chain 1, 0 divergences]\n",
       "    </div>\n",
       "    "
      ],
      "text/plain": [
       "<IPython.core.display.HTML object>"
      ]
     },
     "metadata": {
      "tags": []
     },
     "output_type": "display_data"
    },
    {
     "data": {
      "text/html": [
       "\n",
       "    <div>\n",
       "        <style>\n",
       "            /* Turns off some styling */\n",
       "            progress {\n",
       "                /* gets rid of default border in Firefox and Opera. */\n",
       "                border: none;\n",
       "                /* Needs to be in here for Safari polyfill so background images work as expected. */\n",
       "                background-size: auto;\n",
       "            }\n",
       "            .progress-bar-interrupted, .progress-bar-interrupted::-webkit-progress-bar {\n",
       "                background: #F44336;\n",
       "            }\n",
       "        </style>\n",
       "      <progress value='11000' class='' max='11000' style='width:300px; height:20px; vertical-align: middle;'></progress>\n",
       "      100.00% [11000/11000 00:05<00:00 Sampling chain 2, 0 divergences]\n",
       "    </div>\n",
       "    "
      ],
      "text/plain": [
       "<IPython.core.display.HTML object>"
      ]
     },
     "metadata": {
      "tags": []
     },
     "output_type": "display_data"
    },
    {
     "data": {
      "text/html": [
       "\n",
       "    <div>\n",
       "        <style>\n",
       "            /* Turns off some styling */\n",
       "            progress {\n",
       "                /* gets rid of default border in Firefox and Opera. */\n",
       "                border: none;\n",
       "                /* Needs to be in here for Safari polyfill so background images work as expected. */\n",
       "                background-size: auto;\n",
       "            }\n",
       "            .progress-bar-interrupted, .progress-bar-interrupted::-webkit-progress-bar {\n",
       "                background: #F44336;\n",
       "            }\n",
       "        </style>\n",
       "      <progress value='11000' class='' max='11000' style='width:300px; height:20px; vertical-align: middle;'></progress>\n",
       "      100.00% [11000/11000 00:05<00:00 Sampling chain 3, 0 divergences]\n",
       "    </div>\n",
       "    "
      ],
      "text/plain": [
       "<IPython.core.display.HTML object>"
      ]
     },
     "metadata": {
      "tags": []
     },
     "output_type": "display_data"
    },
    {
     "name": "stderr",
     "output_type": "stream",
     "text": [
      "Sampling 4 chains for 1_000 tune and 10_000 draw iterations (4_000 + 40_000 draws total) took 22 seconds.\n",
      "The acceptance probability does not match the target. It is 0.8941240796612822, but should be close to 0.8. Try to increase the number of tuning steps.\n"
     ]
    },
    {
     "data": {
      "image/png": "[encoded data removed]",
      "text/plain": [
       "<Figure size 864x144 with 2 Axes>"
      ]
     },
     "metadata": {
      "needs_background": "light",
      "tags": []
     },
     "output_type": "display_data"
    }
   ],
   "source": [
    "with pm.Model() as model:\n",
    "    \n",
    "    # Priors for unknown model parameters\n",
    "    theta = pm.Uniform(name=\"theta\", lower=0.1, upper=0.4)\n",
    "    \n",
    "    # Likelihood\n",
    "    x = pm.Binomial(name=\"x\", p=theta, n=100, observed=15)\n",
    "\n",
    "    # Posterior\n",
    "    # draw 10000 posterior samples\n",
    "    trace = pm.sample(draws=10000, tune=1000, chains=4)\n",
    "    \n",
    "    # Plot the trace plot\n",
    "    _ = pm.traceplot(trace, var_names=[\"theta\"])"
   ]
  },
  {
   "cell_type": "markdown",
   "metadata": {
    "id": "CKrBaAjclWXv"
   },
   "source": [
    "### Plot the posterior distribution plot of $ \\theta $\n",
    "- What is the mean posterior value?"
   ]
  },
  {
   "cell_type": "code",
   "execution_count": 3,
   "metadata": {
    "colab": {
     "base_uri": "https://localhost:8080/",
     "height": 313
    },
    "id": "9gKfnDIxlWXv",
    "outputId": "f5c205dc-e417-4d77-96eb-2358457ca5a9"
   },
   "outputs": [
    {
     "data": {
      "image/png": "[encoded data removed]",
      "text/plain": [
       "<Figure size 432x288 with 1 Axes>"
      ]
     },
     "metadata": {
      "needs_background": "light",
      "tags": []
     },
     "output_type": "display_data"
    }
   ],
   "source": [
    "# Plot the posterior of trace\n",
    "with model:\n",
    "    az.plot_posterior(trace)"
   ]
  },
  {
   "cell_type": "markdown",
   "metadata": {
    "id": "MG64VzSqlWXv"
   },
   "source": [
    "\n",
    "## Bayesian Network Analysis\n",
    "\n",
    "In this part we will be analyzing medical diagnosis using Bayes Nets. The structure and the Conditional Probabability Distribution tables are shown in the figure below."
   ]
  },
  {
   "cell_type": "markdown",
   "metadata": {
    "id": "LSc_vtT4lWXw"
   },
   "source": [
    "# ![MedicalDiagnosis](Med-diag-bnet.jpg)"
   ]
  },
  {
   "cell_type": "markdown",
   "metadata": {
    "id": "ionAZHqBlWXw"
   },
   "source": [
    "- In the first few questions you will build the Bayes Net, set up the Conditional Probability Distribution tables, and associate the CPDs to the network.   \n",
    "- These steps are extremely important and crucial. Make sure you do the set up correctly, as everything else depends on that.   "
   ]
  },
  {
   "cell_type": "markdown",
   "metadata": {
    "id": "QhVdyNUZlWXw"
   },
   "source": [
    "## Import Libraries\n",
    "\n",
    "**Import the usual libraries for pandas and plotting, and sklearn.**"
   ]
  },
  {
   "cell_type": "code",
   "execution_count": 4,
   "metadata": {
    "id": "k9WPE5_glWXw"
   },
   "outputs": [],
   "source": [
    "import pandas as pd\n",
    "import numpy as np\n",
    "import matplotlib.pyplot as plt\n",
    "import seaborn as sns\n",
    "\n",
    "from sklearn import metrics"
   ]
  },
  {
   "cell_type": "code",
   "execution_count": 5,
   "metadata": {
    "id": "sSTDsUvRx2w9"
   },
   "outputs": [],
   "source": [
    "#!pip install pgmpy\n",
    "#!pip install torch"
   ]
  },
  {
   "cell_type": "code",
   "execution_count": 6,
   "metadata": {
    "id": "anMZF2N_lWXw"
   },
   "outputs": [],
   "source": [
    "# import pgmpy\n",
    "from pgmpy.models import BayesianModel\n",
    "from pgmpy.factors.discrete import TabularCPD"
   ]
  },
  {
   "cell_type": "code",
   "execution_count": 7,
   "metadata": {
    "colab": {
     "base_uri": "https://localhost:8080/",
     "height": 35
    },
    "id": "ESSA1fSIlWXx",
    "outputId": "0caa28bf-51ad-44c4-bc98-1b06e62e8e3a"
   },
   "outputs": [
    {
     "data": {
      "application/vnd.google.colaboratory.intrinsic+json": {
       "type": "string"
      },
      "text/plain": [
       "'0.22.2.post1'"
      ]
     },
     "execution_count": 7,
     "metadata": {
      "tags": []
     },
     "output_type": "execute_result"
    }
   ],
   "source": [
    "import sklearn\n",
    "sklearn.__version__"
   ]
  },
  {
   "cell_type": "markdown",
   "metadata": {
    "id": "MoxJ9YywlWXx"
   },
   "source": [
    "\n",
    "\n",
    "**Define the model structure.** \n",
    "\n",
    "You need to define the network by passing a list of edges. "
   ]
  },
  {
   "cell_type": "code",
   "execution_count": 8,
   "metadata": {
    "id": "a_GdhIcLlWXx"
   },
   "outputs": [],
   "source": [
    "# Building model by passing a list of edges\n",
    "model = BayesianModel([('Smokes', 'LungDisease'), ('LungDisease', 'ShortnessBreath'), ('LungDisease', 'ChestPain'), ('LungDisease', 'Cough'), ('Cold', 'Cough'), ('Cold', 'Fever')])"
   ]
  },
  {
   "cell_type": "markdown",
   "metadata": {
    "id": "OTCefnxslWXy"
   },
   "source": [
    "\n",
    "\n",
    "**Define individual CPDs**\n",
    "- Define the CPDs using the state names of the variables. "
   ]
  },
  {
   "cell_type": "code",
   "execution_count": 9,
   "metadata": {
    "id": "0UlQF48tlWXy",
    "scrolled": true
   },
   "outputs": [],
   "source": [
    " # Defining Smokes CPD\n",
    "cpd_Smokes = TabularCPD(variable='Smokes', variable_card=2, values=[[0.2], [0.8]], state_names={'Smokes' : ['T', 'F']})"
   ]
  },
  {
   "cell_type": "code",
   "execution_count": 10,
   "metadata": {
    "id": "g57-wRI9LjAW"
   },
   "outputs": [],
   "source": [
    "# Defining LungDisease CPD\n",
    "cpd_LungDisease = TabularCPD(variable='LungDisease', \n",
    "                             variable_card=2, \n",
    "                             values=[[0.1009, 0.001],\n",
    "                                     [0.8991, 0.999]],\n",
    "                             evidence=['Smokes'],\n",
    "                             evidence_card=[2],\n",
    "                            state_names={'Smokes' : ['T', 'F'], 'LungDisease' : ['T', 'F']})"
   ]
  },
  {
   "cell_type": "code",
   "execution_count": 11,
   "metadata": {
    "id": "Pv_6fwIDHCSx"
   },
   "outputs": [],
   "source": [
    "# Defining ShortnessBreath CPD\n",
    "cpd_ShortnessBreath = TabularCPD(variable='ShortnessBreath', \n",
    "                             variable_card=2, \n",
    "                             values=[[0.208, 0.01],\n",
    "                                     [0.792, 0.99]],\n",
    "                             evidence=['LungDisease'],\n",
    "                             evidence_card=[2],\n",
    "                            state_names={'LungDisease' : ['T', 'F'], 'ShortnessBreath' : ['T', 'F']})"
   ]
  },
  {
   "cell_type": "code",
   "execution_count": 12,
   "metadata": {
    "id": "baRjOaflLnGz"
   },
   "outputs": [],
   "source": [
    "# Defining ChestPain CPD\n",
    "cpd_ChestPain = TabularCPD(variable='ChestPain', \n",
    "                             variable_card=2, \n",
    "                             values=[[0.208, 0.01],\n",
    "                                     [0.792, 0.99]],\n",
    "                             evidence=['LungDisease'],\n",
    "                             evidence_card=[2],\n",
    "                            state_names={'LungDisease' : ['T', 'F'], 'ChestPain' : ['T', 'F']})"
   ]
  },
  {
   "cell_type": "code",
   "execution_count": 13,
   "metadata": {
    "id": "8uRftgAflWXy"
   },
   "outputs": [],
   "source": [
    "# Defining Cough CPD\n",
    "cpd_Cough = TabularCPD(variable='Cough', \n",
    "                             variable_card=2, \n",
    "                             values=[[0.7525, 0.505, 0.505, 0.01],\n",
    "                                     [0.2475, 0.495, 0.495, 0.99]],\n",
    "                             evidence=['LungDisease', 'Cold'],\n",
    "                             evidence_card=[2,2],\n",
    "                             state_names={'Cough' : ['T', 'F'],\n",
    "                                          'LungDisease' : ['T', 'F'],\n",
    "                                          'Cold' : ['T', 'F']})"
   ]
  },
  {
   "cell_type": "code",
   "execution_count": 14,
   "metadata": {
    "id": "3lZzIgIly-X2"
   },
   "outputs": [],
   "source": [
    "# Defining Cold CPD\n",
    "cpd_Cold = TabularCPD(variable='Cold', variable_card=2, values=[[0.02], [0.98]], state_names={'Cold' : ['T', 'F']})"
   ]
  },
  {
   "cell_type": "code",
   "execution_count": 15,
   "metadata": {
    "id": "H9XKmgqKLrok"
   },
   "outputs": [],
   "source": [
    "# Defining Fever CPD\n",
    "cpd_Fever = TabularCPD(variable='Fever', \n",
    "                             variable_card=2, \n",
    "                             values=[[0.307, 0.01],\n",
    "                                     [0.693, 0.99]],\n",
    "                             evidence=['Cold'],\n",
    "                             evidence_card=[2],\n",
    "                            state_names={'Cold' : ['T', 'F'], 'Fever' : ['T', 'F']})"
   ]
  },
  {
   "cell_type": "markdown",
   "metadata": {
    "id": "gItCACellWXy"
   },
   "source": [
    "\n",
    "#### Check that each of the CPDs are correct"
   ]
  },
  {
   "cell_type": "code",
   "execution_count": 16,
   "metadata": {
    "colab": {
     "base_uri": "https://localhost:8080/"
    },
    "id": "7VtZRsLmM-DV",
    "outputId": "ec0dafba-714b-43b1-9a19-916e71034316"
   },
   "outputs": [
    {
     "data": {
      "text/plain": [
       "<TabularCPD representing P(Smokes:2) at 0x7f1073db48d0>"
      ]
     },
     "execution_count": 16,
     "metadata": {
      "tags": []
     },
     "output_type": "execute_result"
    }
   ],
   "source": [
    "cpd_Smokes"
   ]
  },
  {
   "cell_type": "code",
   "execution_count": 17,
   "metadata": {
    "colab": {
     "base_uri": "https://localhost:8080/"
    },
    "id": "rjN6f4-NNBDS",
    "outputId": "b51ed2be-4718-4331-f5d6-9a09efea27c3"
   },
   "outputs": [
    {
     "name": "stdout",
     "output_type": "stream",
     "text": [
      "+-----------+-----+\n",
      "| Smokes(T) | 0.2 |\n",
      "+-----------+-----+\n",
      "| Smokes(F) | 0.8 |\n",
      "+-----------+-----+\n"
     ]
    }
   ],
   "source": [
    "print(cpd_Smokes)"
   ]
  },
  {
   "cell_type": "code",
   "execution_count": 18,
   "metadata": {
    "colab": {
     "base_uri": "https://localhost:8080/"
    },
    "id": "ddzhSD80NFUn",
    "outputId": "4174b68c-44fd-4ec1-abe7-6f090797d714"
   },
   "outputs": [
    {
     "data": {
      "text/plain": [
       "<TabularCPD representing P(LungDisease:2 | Smokes:2) at 0x7f106e8e8e50>"
      ]
     },
     "execution_count": 18,
     "metadata": {
      "tags": []
     },
     "output_type": "execute_result"
    }
   ],
   "source": [
    "cpd_LungDisease"
   ]
  },
  {
   "cell_type": "code",
   "execution_count": 19,
   "metadata": {
    "colab": {
     "base_uri": "https://localhost:8080/"
    },
    "id": "VqxTl8edNFbI",
    "outputId": "d803e09f-9a18-4c6c-adf3-06156f9d9a46"
   },
   "outputs": [
    {
     "name": "stdout",
     "output_type": "stream",
     "text": [
      "+----------------+-----------+-----------+\n",
      "| Smokes         | Smokes(T) | Smokes(F) |\n",
      "+----------------+-----------+-----------+\n",
      "| LungDisease(T) | 0.1009    | 0.001     |\n",
      "+----------------+-----------+-----------+\n",
      "| LungDisease(F) | 0.8991    | 0.999     |\n",
      "+----------------+-----------+-----------+\n"
     ]
    }
   ],
   "source": [
    "print(cpd_LungDisease)"
   ]
  },
  {
   "cell_type": "code",
   "execution_count": 20,
   "metadata": {
    "colab": {
     "base_uri": "https://localhost:8080/"
    },
    "id": "hf0IGyQ9NKdz",
    "outputId": "bc78b82d-9053-4eeb-d79a-ee6803bc5ec8"
   },
   "outputs": [
    {
     "data": {
      "text/plain": [
       "<TabularCPD representing P(ShortnessBreath:2 | LungDisease:2) at 0x7f107404e110>"
      ]
     },
     "execution_count": 20,
     "metadata": {
      "tags": []
     },
     "output_type": "execute_result"
    }
   ],
   "source": [
    "cpd_ShortnessBreath"
   ]
  },
  {
   "cell_type": "code",
   "execution_count": 21,
   "metadata": {
    "colab": {
     "base_uri": "https://localhost:8080/"
    },
    "id": "8H21wLI6NKhi",
    "outputId": "64e6c1cc-f24a-4134-8ddc-a76994f09d4c"
   },
   "outputs": [
    {
     "name": "stdout",
     "output_type": "stream",
     "text": [
      "+--------------------+----------------+----------------+\n",
      "| LungDisease        | LungDisease(T) | LungDisease(F) |\n",
      "+--------------------+----------------+----------------+\n",
      "| ShortnessBreath(T) | 0.208          | 0.01           |\n",
      "+--------------------+----------------+----------------+\n",
      "| ShortnessBreath(F) | 0.792          | 0.99           |\n",
      "+--------------------+----------------+----------------+\n"
     ]
    }
   ],
   "source": [
    "print(cpd_ShortnessBreath)"
   ]
  },
  {
   "cell_type": "code",
   "execution_count": 22,
   "metadata": {
    "colab": {
     "base_uri": "https://localhost:8080/"
    },
    "id": "k-hpNwu9NLCG",
    "outputId": "6273128f-1acc-4e6d-fda3-2f7022dce731"
   },
   "outputs": [
    {
     "data": {
      "text/plain": [
       "<TabularCPD representing P(ChestPain:2 | LungDisease:2) at 0x7f1073da5810>"
      ]
     },
     "execution_count": 22,
     "metadata": {
      "tags": []
     },
     "output_type": "execute_result"
    }
   ],
   "source": [
    "cpd_ChestPain"
   ]
  },
  {
   "cell_type": "code",
   "execution_count": 23,
   "metadata": {
    "colab": {
     "base_uri": "https://localhost:8080/"
    },
    "id": "SsGYB0mvNLE8",
    "outputId": "f9218387-dac9-4958-fb14-25eae2ac3000"
   },
   "outputs": [
    {
     "name": "stdout",
     "output_type": "stream",
     "text": [
      "+--------------+----------------+----------------+\n",
      "| LungDisease  | LungDisease(T) | LungDisease(F) |\n",
      "+--------------+----------------+----------------+\n",
      "| ChestPain(T) | 0.208          | 0.01           |\n",
      "+--------------+----------------+----------------+\n",
      "| ChestPain(F) | 0.792          | 0.99           |\n",
      "+--------------+----------------+----------------+\n"
     ]
    }
   ],
   "source": [
    "print(cpd_ChestPain)"
   ]
  },
  {
   "cell_type": "code",
   "execution_count": 24,
   "metadata": {
    "colab": {
     "base_uri": "https://localhost:8080/"
    },
    "id": "SLrCMQ0INWcZ",
    "outputId": "11628098-7ca2-4730-87ab-14416b45b841"
   },
   "outputs": [
    {
     "data": {
      "text/plain": [
       "<TabularCPD representing P(Cough:2 | LungDisease:2, Cold:2) at 0x7f107404e090>"
      ]
     },
     "execution_count": 24,
     "metadata": {
      "tags": []
     },
     "output_type": "execute_result"
    }
   ],
   "source": [
    "cpd_Cough"
   ]
  },
  {
   "cell_type": "code",
   "execution_count": 25,
   "metadata": {
    "colab": {
     "base_uri": "https://localhost:8080/"
    },
    "id": "AMUBiqiPNWgI",
    "outputId": "f3318b50-d8bb-4d70-f04c-00436007f3b3"
   },
   "outputs": [
    {
     "name": "stdout",
     "output_type": "stream",
     "text": [
      "+-------------+----------------+----------------+----------------+----------------+\n",
      "| LungDisease | LungDisease(T) | LungDisease(T) | LungDisease(F) | LungDisease(F) |\n",
      "+-------------+----------------+----------------+----------------+----------------+\n",
      "| Cold        | Cold(T)        | Cold(F)        | Cold(T)        | Cold(F)        |\n",
      "+-------------+----------------+----------------+----------------+----------------+\n",
      "| Cough(T)    | 0.7525         | 0.505          | 0.505          | 0.01           |\n",
      "+-------------+----------------+----------------+----------------+----------------+\n",
      "| Cough(F)    | 0.2475         | 0.495          | 0.495          | 0.99           |\n",
      "+-------------+----------------+----------------+----------------+----------------+\n"
     ]
    }
   ],
   "source": [
    "print(cpd_Cough)"
   ]
  },
  {
   "cell_type": "code",
   "execution_count": 26,
   "metadata": {
    "colab": {
     "base_uri": "https://localhost:8080/"
    },
    "id": "M069p6rwNaLS",
    "outputId": "f48d9d2e-28fa-4272-a258-0a9521d02480"
   },
   "outputs": [
    {
     "data": {
      "text/plain": [
       "<TabularCPD representing P(Cold:2) at 0x7f1073db4410>"
      ]
     },
     "execution_count": 26,
     "metadata": {
      "tags": []
     },
     "output_type": "execute_result"
    }
   ],
   "source": [
    "cpd_Cold"
   ]
  },
  {
   "cell_type": "code",
   "execution_count": 27,
   "metadata": {
    "colab": {
     "base_uri": "https://localhost:8080/"
    },
    "id": "zIoBDB7UNaQJ",
    "outputId": "6581e3dd-7e38-4e16-ad16-f5ae391af490"
   },
   "outputs": [
    {
     "name": "stdout",
     "output_type": "stream",
     "text": [
      "+---------+------+\n",
      "| Cold(T) | 0.02 |\n",
      "+---------+------+\n",
      "| Cold(F) | 0.98 |\n",
      "+---------+------+\n"
     ]
    }
   ],
   "source": [
    "print(cpd_Cold)"
   ]
  },
  {
   "cell_type": "code",
   "execution_count": 28,
   "metadata": {
    "colab": {
     "base_uri": "https://localhost:8080/"
    },
    "id": "uXToOaJUNflQ",
    "outputId": "8d963e3d-2352-4340-8ed1-48f7dd55b018"
   },
   "outputs": [
    {
     "data": {
      "text/plain": [
       "<TabularCPD representing P(Fever:2 | Cold:2) at 0x7f10649bc590>"
      ]
     },
     "execution_count": 28,
     "metadata": {
      "tags": []
     },
     "output_type": "execute_result"
    }
   ],
   "source": [
    "cpd_Fever"
   ]
  },
  {
   "cell_type": "code",
   "execution_count": 29,
   "metadata": {
    "colab": {
     "base_uri": "https://localhost:8080/"
    },
    "id": "gJfjdaszH8rA",
    "outputId": "378a7793-91f3-4745-92cc-0fcec5b351d7"
   },
   "outputs": [
    {
     "name": "stdout",
     "output_type": "stream",
     "text": [
      "+----------+---------+---------+\n",
      "| Cold     | Cold(T) | Cold(F) |\n",
      "+----------+---------+---------+\n",
      "| Fever(T) | 0.307   | 0.01    |\n",
      "+----------+---------+---------+\n",
      "| Fever(F) | 0.693   | 0.99    |\n",
      "+----------+---------+---------+\n"
     ]
    }
   ],
   "source": [
    "print(cpd_Fever)"
   ]
  },
  {
   "cell_type": "markdown",
   "metadata": {
    "id": "FCqM21u6lWXz"
   },
   "source": [
    "## Q5 [5]\n",
    "- Add the defined CPDs to the model (Associate the CPDs with the network)"
   ]
  },
  {
   "cell_type": "code",
   "execution_count": 30,
   "metadata": {
    "colab": {
     "base_uri": "https://localhost:8080/"
    },
    "id": "lSmF5teRlWXz",
    "outputId": "ce300463-3a72-44cd-cb65-454765a96732"
   },
   "outputs": [
    {
     "data": {
      "text/plain": [
       "True"
      ]
     },
     "execution_count": 30,
     "metadata": {
      "tags": []
     },
     "output_type": "execute_result"
    }
   ],
   "source": [
    "# Associating the parameters with the model structure\n",
    "model.add_cpds(cpd_Smokes, cpd_LungDisease, cpd_ShortnessBreath, cpd_ChestPain, cpd_Cough, cpd_Cold, cpd_Fever)\n",
    "\n",
    "# Checking if the cpds are valid for the model\n",
    "model.check_model()"
   ]
  },
  {
   "cell_type": "markdown",
   "metadata": {
    "id": "OMjFxW1slWX0"
   },
   "source": [
    "\n",
    "#### The cardinality of each of the nodes is 2 - True or False?"
   ]
  },
  {
   "cell_type": "code",
   "execution_count": 31,
   "metadata": {
    "colab": {
     "base_uri": "https://localhost:8080/"
    },
    "id": "yoJH-ndblWXz",
    "outputId": "ae9b52c9-22dc-4d9c-b97e-2d45b18778a2"
   },
   "outputs": [
    {
     "data": {
      "text/plain": [
       "2"
      ]
     },
     "execution_count": 31,
     "metadata": {
      "tags": []
     },
     "output_type": "execute_result"
    }
   ],
   "source": [
    "model.get_cardinality('Smokes')"
   ]
  },
  {
   "cell_type": "code",
   "execution_count": 32,
   "metadata": {
    "colab": {
     "base_uri": "https://localhost:8080/"
    },
    "id": "YFYOFnGalWX0",
    "outputId": "2aaa1fe9-1b5a-473b-d49a-cd1c06a20f95"
   },
   "outputs": [
    {
     "data": {
      "text/plain": [
       "2"
      ]
     },
     "execution_count": 32,
     "metadata": {
      "tags": []
     },
     "output_type": "execute_result"
    }
   ],
   "source": [
    "model.get_cardinality('LungDisease')"
   ]
  },
  {
   "cell_type": "code",
   "execution_count": 33,
   "metadata": {
    "colab": {
     "base_uri": "https://localhost:8080/"
    },
    "id": "L4oi3JrRWDsk",
    "outputId": "c0b1c3a8-7ce6-4622-88ee-883df561c86b"
   },
   "outputs": [
    {
     "data": {
      "text/plain": [
       "2"
      ]
     },
     "execution_count": 33,
     "metadata": {
      "tags": []
     },
     "output_type": "execute_result"
    }
   ],
   "source": [
    "model.get_cardinality('ShortnessBreath')"
   ]
  },
  {
   "cell_type": "code",
   "execution_count": 34,
   "metadata": {
    "colab": {
     "base_uri": "https://localhost:8080/"
    },
    "id": "wpNHAO-TWHJl",
    "outputId": "b29a7613-4a00-4ffb-c6ab-c306e2354a00"
   },
   "outputs": [
    {
     "data": {
      "text/plain": [
       "2"
      ]
     },
     "execution_count": 34,
     "metadata": {
      "tags": []
     },
     "output_type": "execute_result"
    }
   ],
   "source": [
    "model.get_cardinality('ChestPain')"
   ]
  },
  {
   "cell_type": "code",
   "execution_count": 35,
   "metadata": {
    "colab": {
     "base_uri": "https://localhost:8080/"
    },
    "id": "oAl_CInfWKso",
    "outputId": "949794a7-a015-49fe-e329-9e002dd6b256"
   },
   "outputs": [
    {
     "data": {
      "text/plain": [
       "2"
      ]
     },
     "execution_count": 35,
     "metadata": {
      "tags": []
     },
     "output_type": "execute_result"
    }
   ],
   "source": [
    "model.get_cardinality('Cough')"
   ]
  },
  {
   "cell_type": "code",
   "execution_count": 36,
   "metadata": {
    "colab": {
     "base_uri": "https://localhost:8080/"
    },
    "id": "dFKGyFDdWPBc",
    "outputId": "9203e5ab-40f2-4972-ee84-8fdbd47c87bd"
   },
   "outputs": [
    {
     "data": {
      "text/plain": [
       "2"
      ]
     },
     "execution_count": 36,
     "metadata": {
      "tags": []
     },
     "output_type": "execute_result"
    }
   ],
   "source": [
    "model.get_cardinality('Cold')"
   ]
  },
  {
   "cell_type": "code",
   "execution_count": 37,
   "metadata": {
    "colab": {
     "base_uri": "https://localhost:8080/"
    },
    "id": "T7NmpFJiWVkI",
    "outputId": "e8d72311-56ff-497e-e83c-33eadf8d81b1"
   },
   "outputs": [
    {
     "data": {
      "text/plain": [
       "2"
      ]
     },
     "execution_count": 37,
     "metadata": {
      "tags": []
     },
     "output_type": "execute_result"
    }
   ],
   "source": [
    "model.get_cardinality('Fever')"
   ]
  },
  {
   "cell_type": "markdown",
   "metadata": {
    "id": "QViJiYgTQyIv"
   },
   "source": [
    "As shown above, the cardinality of each of the nodes is 2 "
   ]
  },
  {
   "cell_type": "markdown",
   "metadata": {
    "id": "PFmgPtgalWX0"
   },
   "source": [
    "\n",
    "#### Find the probability of each event hapenning using the variable elimination method\n",
    "- $ P(Smokes) $\n",
    "- $ P(Cold) $\n",
    "- $ P(LungDisease) $\n",
    "- $ P(ShortnessBreath) $\n",
    "- $ P(ChestPain) $\n",
    "- $ P(Fever) $\n",
    "- $ P(Cough) $\n",
    "- $ P(LungDisease|Smokes=True) $\n",
    "- $ P(LungDisease|Cough=True) $\n",
    "- $ P(ShortnessBreath|Smokes=True) $\n",
    "- $ P(ChestPain|Fever=True) $"
   ]
  },
  {
   "cell_type": "code",
   "execution_count": 38,
   "metadata": {
    "id": "adoCVeollWX0"
   },
   "outputs": [],
   "source": [
    "# Inference from bayesian models\n",
    "from pgmpy.inference import VariableElimination\n",
    "infer = VariableElimination(model)"
   ]
  },
  {
   "cell_type": "code",
   "execution_count": 39,
   "metadata": {
    "colab": {
     "base_uri": "https://localhost:8080/"
    },
    "id": "jSGVyYwplWX0",
    "outputId": "67dd1c82-6020-4643-8097-895df4f76404"
   },
   "outputs": [
    {
     "name": "stderr",
     "output_type": "stream",
     "text": [
      "Finding Elimination Order: : 100%|██████████| 6/6 [00:00<00:00, 1318.89it/s]\n",
      "Eliminating: ShortnessBreath: 100%|██████████| 6/6 [00:00<00:00, 199.83it/s]"
     ]
    },
    {
     "name": "stdout",
     "output_type": "stream",
     "text": [
      "+-----------+---------------+\n",
      "| Smokes    |   phi(Smokes) |\n",
      "+===========+===============+\n",
      "| Smokes(T) |        0.2000 |\n",
      "+-----------+---------------+\n",
      "| Smokes(F) |        0.8000 |\n",
      "+-----------+---------------+\n"
     ]
    },
    {
     "name": "stderr",
     "output_type": "stream",
     "text": [
      "\n"
     ]
    }
   ],
   "source": [
    "# Computing the probability of Smokes\n",
    "dist = infer.query(['Smokes'])\n",
    "print(dist)"
   ]
  },
  {
   "cell_type": "code",
   "execution_count": 40,
   "metadata": {
    "colab": {
     "base_uri": "https://localhost:8080/"
    },
    "id": "OUug1e6OsLzd",
    "outputId": "a495725a-3c2a-492c-ce07-f54bea9aec84"
   },
   "outputs": [
    {
     "name": "stderr",
     "output_type": "stream",
     "text": [
      "Finding Elimination Order: : 100%|██████████| 6/6 [00:00<00:00, 2933.76it/s]\n",
      "Eliminating: ShortnessBreath: 100%|██████████| 6/6 [00:00<00:00, 415.02it/s]"
     ]
    },
    {
     "name": "stdout",
     "output_type": "stream",
     "text": [
      "+---------+-------------+\n",
      "| Cold    |   phi(Cold) |\n",
      "+=========+=============+\n",
      "| Cold(T) |      0.0200 |\n",
      "+---------+-------------+\n",
      "| Cold(F) |      0.9800 |\n",
      "+---------+-------------+\n"
     ]
    },
    {
     "name": "stderr",
     "output_type": "stream",
     "text": [
      "\n"
     ]
    }
   ],
   "source": [
    "# Computing the probability of Cold\n",
    "dist = infer.query(['Cold'])\n",
    "print(dist)"
   ]
  },
  {
   "cell_type": "code",
   "execution_count": 41,
   "metadata": {
    "colab": {
     "base_uri": "https://localhost:8080/"
    },
    "id": "Z6HAjikXsQkr",
    "outputId": "c09eedd7-b313-4496-beb9-2d967161964e"
   },
   "outputs": [
    {
     "name": "stderr",
     "output_type": "stream",
     "text": [
      "Finding Elimination Order: : 100%|██████████| 6/6 [00:00<00:00, 1225.21it/s]\n",
      "Eliminating: ShortnessBreath: 100%|██████████| 6/6 [00:00<00:00, 428.92it/s]"
     ]
    },
    {
     "name": "stdout",
     "output_type": "stream",
     "text": [
      "+----------------+--------------------+\n",
      "| LungDisease    |   phi(LungDisease) |\n",
      "+================+====================+\n",
      "| LungDisease(T) |             0.0210 |\n",
      "+----------------+--------------------+\n",
      "| LungDisease(F) |             0.9790 |\n",
      "+----------------+--------------------+\n"
     ]
    },
    {
     "name": "stderr",
     "output_type": "stream",
     "text": [
      "\n"
     ]
    }
   ],
   "source": [
    "# Computing the probability of LungDisease\n",
    "dist = infer.query(['LungDisease'])\n",
    "print(dist)"
   ]
  },
  {
   "cell_type": "code",
   "execution_count": 42,
   "metadata": {
    "colab": {
     "base_uri": "https://localhost:8080/"
    },
    "id": "ttYAXuMvsWjB",
    "outputId": "cf494481-dbfc-4a3e-9852-83f2fa603041"
   },
   "outputs": [
    {
     "name": "stderr",
     "output_type": "stream",
     "text": [
      "Finding Elimination Order: : 100%|██████████| 6/6 [00:00<00:00, 1249.30it/s]\n",
      "Eliminating: Cold: 100%|██████████| 6/6 [00:00<00:00, 274.22it/s]"
     ]
    },
    {
     "name": "stdout",
     "output_type": "stream",
     "text": [
      "+--------------------+------------------------+\n",
      "| ShortnessBreath    |   phi(ShortnessBreath) |\n",
      "+====================+========================+\n",
      "| ShortnessBreath(T) |                 0.0142 |\n",
      "+--------------------+------------------------+\n",
      "| ShortnessBreath(F) |                 0.9858 |\n",
      "+--------------------+------------------------+\n"
     ]
    },
    {
     "name": "stderr",
     "output_type": "stream",
     "text": [
      "\n"
     ]
    }
   ],
   "source": [
    "# Computing the probability of ShortnessBreath\n",
    "dist = infer.query(['ShortnessBreath'])\n",
    "print(dist)"
   ]
  },
  {
   "cell_type": "code",
   "execution_count": 43,
   "metadata": {
    "colab": {
     "base_uri": "https://localhost:8080/"
    },
    "id": "Lnrcd5tFsWls",
    "outputId": "0279fb61-6d49-428e-f408-4225151d6d53"
   },
   "outputs": [
    {
     "name": "stderr",
     "output_type": "stream",
     "text": [
      "Finding Elimination Order: : 100%|██████████| 6/6 [00:00<00:00, 1171.65it/s]\n",
      "Eliminating: LungDisease: 100%|██████████| 6/6 [00:00<00:00, 315.65it/s]"
     ]
    },
    {
     "name": "stdout",
     "output_type": "stream",
     "text": [
      "+--------------+------------------+\n",
      "| ChestPain    |   phi(ChestPain) |\n",
      "+==============+==================+\n",
      "| ChestPain(T) |           0.0142 |\n",
      "+--------------+------------------+\n",
      "| ChestPain(F) |           0.9858 |\n",
      "+--------------+------------------+\n"
     ]
    },
    {
     "name": "stderr",
     "output_type": "stream",
     "text": [
      "\n"
     ]
    }
   ],
   "source": [
    "# Computing the probability of ChestPain\n",
    "dist = infer.query(['ChestPain'])\n",
    "print(dist)"
   ]
  },
  {
   "cell_type": "code",
   "execution_count": 44,
   "metadata": {
    "colab": {
     "base_uri": "https://localhost:8080/"
    },
    "id": "NB8VZEeZsWo_",
    "outputId": "56133960-3ed9-40a1-aab9-33366c16f71d"
   },
   "outputs": [
    {
     "name": "stderr",
     "output_type": "stream",
     "text": [
      "Finding Elimination Order: : 100%|██████████| 6/6 [00:00<00:00, 1376.01it/s]\n",
      "Eliminating: ShortnessBreath: 100%|██████████| 6/6 [00:00<00:00, 305.17it/s]"
     ]
    },
    {
     "name": "stdout",
     "output_type": "stream",
     "text": [
      "+----------+--------------+\n",
      "| Fever    |   phi(Fever) |\n",
      "+==========+==============+\n",
      "| Fever(T) |       0.0159 |\n",
      "+----------+--------------+\n",
      "| Fever(F) |       0.9841 |\n",
      "+----------+--------------+\n"
     ]
    },
    {
     "name": "stderr",
     "output_type": "stream",
     "text": [
      "\n"
     ]
    }
   ],
   "source": [
    "# Computing the probability of Fever\n",
    "dist = infer.query(['Fever'])\n",
    "print(dist)"
   ]
  },
  {
   "cell_type": "code",
   "execution_count": 45,
   "metadata": {
    "colab": {
     "base_uri": "https://localhost:8080/"
    },
    "id": "s0av1GsrsWq9",
    "outputId": "4cef98bd-8b31-48a6-92fc-6dc27ac7923b"
   },
   "outputs": [
    {
     "name": "stderr",
     "output_type": "stream",
     "text": [
      "Finding Elimination Order: : 100%|██████████| 6/6 [00:00<00:00, 1511.37it/s]\n",
      "Eliminating: LungDisease: 100%|██████████| 6/6 [00:00<00:00, 483.09it/s]"
     ]
    },
    {
     "name": "stdout",
     "output_type": "stream",
     "text": [
      "+----------+--------------+\n",
      "| Cough    |   phi(Cough) |\n",
      "+==========+==============+\n",
      "| Cough(T) |       0.0302 |\n",
      "+----------+--------------+\n",
      "| Cough(F) |       0.9698 |\n",
      "+----------+--------------+\n"
     ]
    },
    {
     "name": "stderr",
     "output_type": "stream",
     "text": [
      "\n"
     ]
    }
   ],
   "source": [
    "# Computing the probability of Cough\n",
    "dist = infer.query(['Cough'])\n",
    "print(dist)"
   ]
  },
  {
   "cell_type": "code",
   "execution_count": 46,
   "metadata": {
    "colab": {
     "base_uri": "https://localhost:8080/"
    },
    "id": "0XWNRDzxsWvM",
    "outputId": "0e0bd25c-837d-4bf5-fa04-9398dc95132b"
   },
   "outputs": [
    {
     "name": "stderr",
     "output_type": "stream",
     "text": [
      "Finding Elimination Order: : 100%|██████████| 5/5 [00:00<00:00, 3075.45it/s]\n",
      "Eliminating: ShortnessBreath: 100%|██████████| 5/5 [00:00<00:00, 822.74it/s]"
     ]
    },
    {
     "name": "stdout",
     "output_type": "stream",
     "text": [
      "+----------------+--------------------+\n",
      "| LungDisease    |   phi(LungDisease) |\n",
      "+================+====================+\n",
      "| LungDisease(T) |             0.1009 |\n",
      "+----------------+--------------------+\n",
      "| LungDisease(F) |             0.8991 |\n",
      "+----------------+--------------------+\n"
     ]
    },
    {
     "name": "stderr",
     "output_type": "stream",
     "text": [
      "\n"
     ]
    }
   ],
   "source": [
    "# Computing the conditional distribution of LungDisease when Smokes is True\n",
    "print(infer.query(['LungDisease'], evidence={'Smokes': 'T'}))"
   ]
  },
  {
   "cell_type": "code",
   "execution_count": 47,
   "metadata": {
    "colab": {
     "base_uri": "https://localhost:8080/"
    },
    "id": "aHZXtkCXs4_L",
    "outputId": "cbc9a20d-a7d2-4dfa-c74f-c64e8f75575b"
   },
   "outputs": [
    {
     "name": "stderr",
     "output_type": "stream",
     "text": [
      "Finding Elimination Order: : 100%|██████████| 5/5 [00:00<00:00, 1593.22it/s]\n",
      "Eliminating: ShortnessBreath: 100%|██████████| 5/5 [00:00<00:00, 821.80it/s]"
     ]
    },
    {
     "name": "stdout",
     "output_type": "stream",
     "text": [
      "+----------------+--------------------+\n",
      "| LungDisease    |   phi(LungDisease) |\n",
      "+================+====================+\n",
      "| LungDisease(T) |             0.3545 |\n",
      "+----------------+--------------------+\n",
      "| LungDisease(F) |             0.6455 |\n",
      "+----------------+--------------------+\n"
     ]
    },
    {
     "name": "stderr",
     "output_type": "stream",
     "text": [
      "\n"
     ]
    }
   ],
   "source": [
    "# Computing the conditional distribution of LungDisease when Cough is True\n",
    "print(infer.query(['LungDisease'], evidence={'Cough': 'T'}))"
   ]
  },
  {
   "cell_type": "code",
   "execution_count": 48,
   "metadata": {
    "colab": {
     "base_uri": "https://localhost:8080/"
    },
    "id": "lLHCc2lftYYP",
    "outputId": "2753f2a5-5f8a-429f-d922-be522fd28a27"
   },
   "outputs": [
    {
     "name": "stderr",
     "output_type": "stream",
     "text": [
      "Finding Elimination Order: : 100%|██████████| 5/5 [00:00<00:00, 1399.41it/s]\n",
      "Eliminating: Cold: 100%|██████████| 5/5 [00:00<00:00, 295.55it/s]"
     ]
    },
    {
     "name": "stdout",
     "output_type": "stream",
     "text": [
      "+--------------------+------------------------+\n",
      "| ShortnessBreath    |   phi(ShortnessBreath) |\n",
      "+====================+========================+\n",
      "| ShortnessBreath(T) |                 0.0300 |\n",
      "+--------------------+------------------------+\n",
      "| ShortnessBreath(F) |                 0.9700 |\n",
      "+--------------------+------------------------+\n"
     ]
    },
    {
     "name": "stderr",
     "output_type": "stream",
     "text": [
      "\n"
     ]
    }
   ],
   "source": [
    "# Computing the conditional distribution of ShortnessBreath when Smokes is True\n",
    "print(infer.query(['ShortnessBreath'], evidence={'Smokes': 'T'}))"
   ]
  },
  {
   "cell_type": "code",
   "execution_count": 49,
   "metadata": {
    "colab": {
     "base_uri": "https://localhost:8080/"
    },
    "id": "h6p_iGANtYcL",
    "outputId": "a5722cc2-469e-4e4b-ee0d-23773c560383"
   },
   "outputs": [
    {
     "name": "stderr",
     "output_type": "stream",
     "text": [
      "Finding Elimination Order: : 100%|██████████| 5/5 [00:00<00:00, 1708.20it/s]\n",
      "Eliminating: LungDisease: 100%|██████████| 5/5 [00:00<00:00, 423.15it/s]"
     ]
    },
    {
     "name": "stdout",
     "output_type": "stream",
     "text": [
      "+--------------+------------------+\n",
      "| ChestPain    |   phi(ChestPain) |\n",
      "+==============+==================+\n",
      "| ChestPain(T) |           0.0142 |\n",
      "+--------------+------------------+\n",
      "| ChestPain(F) |           0.9858 |\n",
      "+--------------+------------------+\n"
     ]
    },
    {
     "name": "stderr",
     "output_type": "stream",
     "text": [
      "\n"
     ]
    }
   ],
   "source": [
    "# Computing the conditional distribution of ChestPain when Fever is True\n",
    "print(infer.query(['ChestPain'], evidence={'Fever': 'T'}))"
   ]
  },
  {
   "cell_type": "markdown",
   "metadata": {
    "id": "u2QnjCoWlWX0"
   },
   "source": [
    "#### Are the following  true? If not, can you make them independent by including info on the parent?\n",
    "1. Cough is independent from Fever. (Having knowledge about Fever does not change the probability of Cough) \n",
    "2. Fever is independent from Smokes. \n",
    "3. ChestPain is independent from Smokes.\n"
   ]
  },
  {
   "cell_type": "markdown",
   "metadata": {
    "id": "WWuR69Y4lWX1"
   },
   "source": [
    "##### 1. Cough is independent from Fever"
   ]
  },
  {
   "cell_type": "code",
   "execution_count": 50,
   "metadata": {
    "colab": {
     "base_uri": "https://localhost:8080/"
    },
    "id": "urHISGlElWX1",
    "outputId": "9e90a04b-232f-419c-a88a-5e91778f0c4d"
   },
   "outputs": [
    {
     "name": "stderr",
     "output_type": "stream",
     "text": [
      "Finding Elimination Order: : 100%|██████████| 6/6 [00:00<00:00, 1565.33it/s]\n",
      "Eliminating: LungDisease: 100%|██████████| 6/6 [00:00<00:00, 514.05it/s]\n",
      "Finding Elimination Order: : 100%|██████████| 5/5 [00:00<00:00, 1248.53it/s]\n",
      "Eliminating: Cold: 100%|██████████| 5/5 [00:00<00:00, 521.42it/s]\n",
      "Finding Elimination Order: : 100%|██████████| 5/5 [00:00<00:00, 2551.28it/s]\n",
      "Eliminating: Cold: 100%|██████████| 5/5 [00:00<00:00, 519.41it/s]"
     ]
    },
    {
     "name": "stdout",
     "output_type": "stream",
     "text": [
      "+----------+--------------+\n",
      "| Cough    |   phi(Cough) |\n",
      "+==========+==============+\n",
      "| Cough(T) |       0.0302 |\n",
      "+----------+--------------+\n",
      "| Cough(F) |       0.9698 |\n",
      "+----------+--------------+\n",
      "+----------+--------------+\n",
      "| Cough    |   phi(Cough) |\n",
      "+==========+==============+\n",
      "| Cough(T) |       0.2091 |\n",
      "+----------+--------------+\n",
      "| Cough(F) |       0.7909 |\n",
      "+----------+--------------+\n",
      "+----------+--------------+\n",
      "| Cough    |   phi(Cough) |\n",
      "+==========+==============+\n",
      "| Cough(T) |       0.0273 |\n",
      "+----------+--------------+\n",
      "| Cough(F) |       0.9727 |\n",
      "+----------+--------------+\n"
     ]
    },
    {
     "name": "stderr",
     "output_type": "stream",
     "text": [
      "\n"
     ]
    }
   ],
   "source": [
    "dist = infer.query(['Cough'])\n",
    "print(dist)\n",
    "\n",
    "dist = infer.query(['Cough'], evidence={'Fever':'T'})\n",
    "print(dist)\n",
    "\n",
    "dist = infer.query(['Cough'], evidence={'Fever':'F'})\n",
    "print(dist)"
   ]
  },
  {
   "cell_type": "markdown",
   "metadata": {
    "id": "DV4pg2ZmlWX1"
   },
   "source": [
    "- Fever does affect Cough -> Not independent\n",
    "- However, given the parent of both Fever and Cough (Cold), they should be independent."
   ]
  },
  {
   "cell_type": "code",
   "execution_count": 51,
   "metadata": {
    "colab": {
     "base_uri": "https://localhost:8080/"
    },
    "id": "0P8CRX3WlWX1",
    "outputId": "bb508fb7-c4a0-4366-cf66-4b36539993ec"
   },
   "outputs": [
    {
     "name": "stderr",
     "output_type": "stream",
     "text": [
      "Finding Elimination Order: : 100%|██████████| 4/4 [00:00<00:00, 976.10it/s]\n",
      "Eliminating: LungDisease: 100%|██████████| 4/4 [00:00<00:00, 466.34it/s]\n",
      "Finding Elimination Order: : 100%|██████████| 4/4 [00:00<00:00, 1153.71it/s]\n",
      "Eliminating: LungDisease: 100%|██████████| 4/4 [00:00<00:00, 446.87it/s]\n",
      "Finding Elimination Order: : 100%|██████████| 4/4 [00:00<00:00, 761.74it/s]\n",
      "Eliminating: LungDisease: 100%|██████████| 4/4 [00:00<00:00, 551.01it/s]\n",
      "Finding Elimination Order: : 100%|██████████| 4/4 [00:00<00:00, 903.02it/s]\n",
      "Eliminating: LungDisease: 100%|██████████| 4/4 [00:00<00:00, 503.44it/s]"
     ]
    },
    {
     "name": "stdout",
     "output_type": "stream",
     "text": [
      "+----------+--------------+\n",
      "| Cough    |   phi(Cough) |\n",
      "+==========+==============+\n",
      "| Cough(T) |       0.0204 |\n",
      "+----------+--------------+\n",
      "| Cough(F) |       0.9796 |\n",
      "+----------+--------------+\n",
      "+----------+--------------+\n",
      "| Cough    |   phi(Cough) |\n",
      "+==========+==============+\n",
      "| Cough(T) |       0.0204 |\n",
      "+----------+--------------+\n",
      "| Cough(F) |       0.9796 |\n",
      "+----------+--------------+\n",
      "+----------+--------------+\n",
      "| Cough    |   phi(Cough) |\n",
      "+==========+==============+\n",
      "| Cough(T) |       0.5102 |\n",
      "+----------+--------------+\n",
      "| Cough(F) |       0.4898 |\n",
      "+----------+--------------+\n",
      "+----------+--------------+\n",
      "| Cough    |   phi(Cough) |\n",
      "+==========+==============+\n",
      "| Cough(T) |       0.5102 |\n",
      "+----------+--------------+\n",
      "| Cough(F) |       0.4898 |\n",
      "+----------+--------------+\n"
     ]
    },
    {
     "name": "stderr",
     "output_type": "stream",
     "text": [
      "\n"
     ]
    }
   ],
   "source": [
    "dist = infer.query(['Cough'], evidence={'Cold':'F', 'Fever':'T'})\n",
    "print(dist)\n",
    "\n",
    "dist = infer.query(['Cough'], evidence={'Cold':'F', 'Fever':'F'})\n",
    "print(dist)\n",
    "\n",
    "dist = infer.query(['Cough'], evidence={'Cold':'T', 'Fever':'T'})\n",
    "print(dist)\n",
    "\n",
    "dist = infer.query(['Cough'], evidence={'Cold':'T', 'Fever':'F'})\n",
    "print(dist)"
   ]
  },
  {
   "cell_type": "markdown",
   "metadata": {
    "id": "g_CPEvCIcpy7"
   },
   "source": [
    "From the parent tables above, it shows that only when cold is observed and change in fever does not affect cough since cough is only dependent on cold.  "
   ]
  },
  {
   "cell_type": "markdown",
   "metadata": {
    "id": "iIC0jI4mlWX1"
   },
   "source": [
    "##### 2. Fever is independent from Smokes. "
   ]
  },
  {
   "cell_type": "code",
   "execution_count": 52,
   "metadata": {
    "colab": {
     "base_uri": "https://localhost:8080/"
    },
    "id": "MxSDSGQdlWX1",
    "outputId": "d09b2bd6-33f0-4853-be85-34dd18eb27fb"
   },
   "outputs": [
    {
     "name": "stderr",
     "output_type": "stream",
     "text": [
      "Finding Elimination Order: : 100%|██████████| 6/6 [00:00<00:00, 1656.85it/s]\n",
      "Eliminating: ShortnessBreath: 100%|██████████| 6/6 [00:00<00:00, 368.30it/s]\n",
      "Finding Elimination Order: : 100%|██████████| 5/5 [00:00<00:00, 1425.57it/s]\n",
      "Eliminating: ShortnessBreath: 100%|██████████| 5/5 [00:00<00:00, 417.42it/s]\n",
      "Finding Elimination Order: : 100%|██████████| 5/5 [00:00<00:00, 2386.11it/s]\n",
      "Eliminating: ShortnessBreath: 100%|██████████| 5/5 [00:00<00:00, 424.78it/s]"
     ]
    },
    {
     "name": "stdout",
     "output_type": "stream",
     "text": [
      "+----------+--------------+\n",
      "| Fever    |   phi(Fever) |\n",
      "+==========+==============+\n",
      "| Fever(T) |       0.0159 |\n",
      "+----------+--------------+\n",
      "| Fever(F) |       0.9841 |\n",
      "+----------+--------------+\n",
      "+----------+--------------+\n",
      "| Fever    |   phi(Fever) |\n",
      "+==========+==============+\n",
      "| Fever(T) |       0.0159 |\n",
      "+----------+--------------+\n",
      "| Fever(F) |       0.9841 |\n",
      "+----------+--------------+\n",
      "+----------+--------------+\n",
      "| Fever    |   phi(Fever) |\n",
      "+==========+==============+\n",
      "| Fever(T) |       0.0159 |\n",
      "+----------+--------------+\n",
      "| Fever(F) |       0.9841 |\n",
      "+----------+--------------+\n"
     ]
    },
    {
     "name": "stderr",
     "output_type": "stream",
     "text": [
      "\n"
     ]
    }
   ],
   "source": [
    "dist = infer.query(['Fever'])\n",
    "print(dist)\n",
    "\n",
    "dist = infer.query(['Fever'], evidence={'Smokes':'T'})\n",
    "print(dist)\n",
    "\n",
    "dist = infer.query(['Fever'], evidence={'Smokes':'F'})\n",
    "print(dist)"
   ]
  },
  {
   "cell_type": "markdown",
   "metadata": {
    "id": "bdGiW9oycPWC"
   },
   "source": [
    "From the table above, it appears true that fever is indepentdent from smokes, since fever is independent of its non-descendents of smokes."
   ]
  },
  {
   "cell_type": "markdown",
   "metadata": {
    "id": "rcgY-yM9lWX2"
   },
   "source": [
    "##### 3. ChestPain is independent from Smokes."
   ]
  },
  {
   "cell_type": "code",
   "execution_count": 53,
   "metadata": {
    "colab": {
     "base_uri": "https://localhost:8080/"
    },
    "id": "yH3-kp3rlWX2",
    "outputId": "eec50990-8f86-4c0d-f110-0058e290823d"
   },
   "outputs": [
    {
     "name": "stderr",
     "output_type": "stream",
     "text": [
      "Finding Elimination Order: : 100%|██████████| 6/6 [00:00<00:00, 2661.08it/s]\n",
      "Eliminating: LungDisease: 100%|██████████| 6/6 [00:00<00:00, 465.11it/s]\n",
      "Finding Elimination Order: : 100%|██████████| 5/5 [00:00<00:00, 2528.52it/s]\n",
      "Eliminating: LungDisease: 100%|██████████| 5/5 [00:00<00:00, 426.35it/s]\n",
      "Finding Elimination Order: : 100%|██████████| 5/5 [00:00<00:00, 2777.68it/s]\n",
      "Eliminating: LungDisease: 100%|██████████| 5/5 [00:00<00:00, 414.55it/s]"
     ]
    },
    {
     "name": "stdout",
     "output_type": "stream",
     "text": [
      "+--------------+------------------+\n",
      "| ChestPain    |   phi(ChestPain) |\n",
      "+==============+==================+\n",
      "| ChestPain(T) |           0.0142 |\n",
      "+--------------+------------------+\n",
      "| ChestPain(F) |           0.9858 |\n",
      "+--------------+------------------+\n",
      "+--------------+------------------+\n",
      "| ChestPain    |   phi(ChestPain) |\n",
      "+==============+==================+\n",
      "| ChestPain(T) |           0.0300 |\n",
      "+--------------+------------------+\n",
      "| ChestPain(F) |           0.9700 |\n",
      "+--------------+------------------+\n",
      "+--------------+------------------+\n",
      "| ChestPain    |   phi(ChestPain) |\n",
      "+==============+==================+\n",
      "| ChestPain(T) |           0.0102 |\n",
      "+--------------+------------------+\n",
      "| ChestPain(F) |           0.9898 |\n",
      "+--------------+------------------+\n"
     ]
    },
    {
     "name": "stderr",
     "output_type": "stream",
     "text": [
      "\n"
     ]
    }
   ],
   "source": [
    "dist = infer.query(['ChestPain'])\n",
    "print(dist)\n",
    "\n",
    "dist = infer.query(['ChestPain'], evidence={'Smokes':'T'})\n",
    "print(dist)\n",
    "\n",
    "dist = infer.query(['ChestPain'], evidence={'Smokes':'F'})\n",
    "print(dist)"
   ]
  },
  {
   "cell_type": "markdown",
   "metadata": {
    "id": "SOJf2Mw9gJpS"
   },
   "source": [
    "ChestPain is independent from Smokes -> Not independent. It increases from 1.42 % to 3% when smokes is involved.\n",
    "\n",
    "Checking Smoke -> Lungdisease -> ChestPain below"
   ]
  },
  {
   "cell_type": "code",
   "execution_count": 54,
   "metadata": {
    "colab": {
     "base_uri": "https://localhost:8080/"
    },
    "id": "A-GNAL5KfIAb",
    "outputId": "9fc1e3a3-1e8e-46db-e559-595564c24378"
   },
   "outputs": [
    {
     "name": "stderr",
     "output_type": "stream",
     "text": [
      "Finding Elimination Order: : 100%|██████████| 4/4 [00:00<00:00, 854.76it/s]\n",
      "Eliminating: ShortnessBreath: 100%|██████████| 4/4 [00:00<00:00, 481.85it/s]\n",
      "Finding Elimination Order: : 100%|██████████| 4/4 [00:00<00:00, 722.07it/s]\n",
      "Eliminating: ShortnessBreath: 100%|██████████| 4/4 [00:00<00:00, 564.66it/s]\n",
      "Finding Elimination Order: : 100%|██████████| 4/4 [00:00<00:00, 750.76it/s]\n",
      "Eliminating: ShortnessBreath: 100%|██████████| 4/4 [00:00<00:00, 616.31it/s]\n",
      "Finding Elimination Order: : 100%|██████████| 4/4 [00:00<00:00, 1761.76it/s]\n",
      "Eliminating: ShortnessBreath: 100%|██████████| 4/4 [00:00<00:00, 638.91it/s]"
     ]
    },
    {
     "name": "stdout",
     "output_type": "stream",
     "text": [
      "+--------------+------------------+\n",
      "| ChestPain    |   phi(ChestPain) |\n",
      "+==============+==================+\n",
      "| ChestPain(T) |           0.2080 |\n",
      "+--------------+------------------+\n",
      "| ChestPain(F) |           0.7920 |\n",
      "+--------------+------------------+\n",
      "+--------------+------------------+\n",
      "| ChestPain    |   phi(ChestPain) |\n",
      "+==============+==================+\n",
      "| ChestPain(T) |           0.0100 |\n",
      "+--------------+------------------+\n",
      "| ChestPain(F) |           0.9900 |\n",
      "+--------------+------------------+\n",
      "+--------------+------------------+\n",
      "| ChestPain    |   phi(ChestPain) |\n",
      "+==============+==================+\n",
      "| ChestPain(T) |           0.2080 |\n",
      "+--------------+------------------+\n",
      "| ChestPain(F) |           0.7920 |\n",
      "+--------------+------------------+\n",
      "+--------------+------------------+\n",
      "| ChestPain    |   phi(ChestPain) |\n",
      "+==============+==================+\n",
      "| ChestPain(T) |           0.0100 |\n",
      "+--------------+------------------+\n",
      "| ChestPain(F) |           0.9900 |\n",
      "+--------------+------------------+\n"
     ]
    },
    {
     "name": "stderr",
     "output_type": "stream",
     "text": [
      "\n"
     ]
    }
   ],
   "source": [
    "dist = infer.query(['ChestPain'], evidence={'Smokes':'F', 'LungDisease':'T'})\n",
    "print(dist)\n",
    "\n",
    "dist = infer.query(['ChestPain'], evidence={'Smokes':'F', 'LungDisease':'F'})\n",
    "print(dist)\n",
    "\n",
    "dist = infer.query(['ChestPain'], evidence={'Smokes':'T', 'LungDisease':'T'})\n",
    "print(dist)\n",
    "\n",
    "dist = infer.query(['ChestPain'], evidence={'Smokes':'T', 'LungDisease':'F'})\n",
    "print(dist)"
   ]
  },
  {
   "cell_type": "markdown",
   "metadata": {
    "id": "yl1XnXnAgjBL"
   },
   "source": [
    "It is possible in this case that ChestPain depends more on Lungdisease, its parent, than the impact of Smokes."
   ]
  },
  {
   "cell_type": "markdown",
   "metadata": {
    "id": "skt2XLrzlWX2"
   },
   "source": [
    "#### The probability distribution \n",
    "1. Does having the knowledge that the person is coughing increase the probability of lung disease?\n",
    "2. Does having the knowledge that the person is coughing increase the probability that the person has Cold?\n",
    "3. Does having the knowledge that the person is coughing increase the probability that there is Fever?\n",
    "4. Does having the knowledge that the person is coughing increase the probability that there is Fever, given the person has Cold?\n",
    "5. Does having the knowledge that the person has Fever increase the probability that there is Lung Disease?\n"
   ]
  },
  {
   "cell_type": "markdown",
   "metadata": {
    "id": "XXkZstnalWX2"
   },
   "source": [
    "##### 1. Does having the knowledge that the person is coughing increase the probability of lung disease? [5]"
   ]
  },
  {
   "cell_type": "code",
   "execution_count": 55,
   "metadata": {
    "colab": {
     "base_uri": "https://localhost:8080/"
    },
    "id": "Ccq31OXOlWX3",
    "outputId": "93b298fe-1ab5-45df-8489-1864849cc9af"
   },
   "outputs": [
    {
     "name": "stderr",
     "output_type": "stream",
     "text": [
      "Finding Elimination Order: : 100%|██████████| 6/6 [00:00<00:00, 3152.43it/s]\n",
      "Eliminating: ShortnessBreath: 100%|██████████| 6/6 [00:00<00:00, 461.47it/s]\n",
      "Finding Elimination Order: : 100%|██████████| 5/5 [00:00<00:00, 1762.61it/s]\n",
      "Eliminating: ShortnessBreath: 100%|██████████| 5/5 [00:00<00:00, 421.55it/s]"
     ]
    },
    {
     "name": "stdout",
     "output_type": "stream",
     "text": [
      "+----------------+--------------------+\n",
      "| LungDisease    |   phi(LungDisease) |\n",
      "+================+====================+\n",
      "| LungDisease(T) |             0.0210 |\n",
      "+----------------+--------------------+\n",
      "| LungDisease(F) |             0.9790 |\n",
      "+----------------+--------------------+\n",
      "+----------------+--------------------+\n",
      "| LungDisease    |   phi(LungDisease) |\n",
      "+================+====================+\n",
      "| LungDisease(T) |             0.3545 |\n",
      "+----------------+--------------------+\n",
      "| LungDisease(F) |             0.6455 |\n",
      "+----------------+--------------------+\n"
     ]
    },
    {
     "name": "stderr",
     "output_type": "stream",
     "text": [
      "\n"
     ]
    }
   ],
   "source": [
    "dist = infer.query(['LungDisease'])\n",
    "print(dist)\n",
    "dist = infer.query(['LungDisease'], evidence={'Cough': 'T'})\n",
    "print(dist)"
   ]
  },
  {
   "cell_type": "markdown",
   "metadata": {
    "id": "Qw4RlP8AlWX3"
   },
   "source": [
    "Having the knowledge that the person is coughing increases the probability of lung disease."
   ]
  },
  {
   "cell_type": "markdown",
   "metadata": {
    "id": "FbsY8p86lWX3"
   },
   "source": [
    "##### 2. Does having the knowledge that the person is coughing increase the probability that the person has Cold? [5]"
   ]
  },
  {
   "cell_type": "code",
   "execution_count": 56,
   "metadata": {
    "colab": {
     "base_uri": "https://localhost:8080/"
    },
    "id": "eZ6QA6VrlWX3",
    "outputId": "38c7682a-5a5a-42b2-95f7-772533d9a25f"
   },
   "outputs": [
    {
     "name": "stderr",
     "output_type": "stream",
     "text": [
      "Finding Elimination Order: : 100%|██████████| 6/6 [00:00<00:00, 1354.31it/s]\n",
      "Eliminating: ShortnessBreath: 100%|██████████| 6/6 [00:00<00:00, 357.80it/s]\n",
      "Finding Elimination Order: : 100%|██████████| 5/5 [00:00<00:00, 1175.60it/s]\n",
      "Eliminating: LungDisease: 100%|██████████| 5/5 [00:00<00:00, 449.85it/s]"
     ]
    },
    {
     "name": "stdout",
     "output_type": "stream",
     "text": [
      "+---------+-------------+\n",
      "| Cold    |   phi(Cold) |\n",
      "+=========+=============+\n",
      "| Cold(T) |      0.0200 |\n",
      "+---------+-------------+\n",
      "| Cold(F) |      0.9800 |\n",
      "+---------+-------------+\n",
      "+---------+-------------+\n",
      "| Cold    |   phi(Cold) |\n",
      "+=========+=============+\n",
      "| Cold(T) |      0.3381 |\n",
      "+---------+-------------+\n",
      "| Cold(F) |      0.6619 |\n",
      "+---------+-------------+\n"
     ]
    },
    {
     "name": "stderr",
     "output_type": "stream",
     "text": [
      "\n"
     ]
    }
   ],
   "source": [
    "dist = infer.query(['Cold'])\n",
    "print(dist)\n",
    "dist = infer.query(['Cold'], evidence={'Cough': 'T'})\n",
    "print(dist)"
   ]
  },
  {
   "cell_type": "markdown",
   "metadata": {
    "id": "ndSi6WK0j617"
   },
   "source": [
    "Having the knowledge that the person is coughing increases the probability of having cold."
   ]
  },
  {
   "cell_type": "markdown",
   "metadata": {
    "id": "xKaRFeRHlWX3"
   },
   "source": [
    "##### 3. Does having the knowledge that the person is coughing increase the probability that there is Fever? [5]"
   ]
  },
  {
   "cell_type": "code",
   "execution_count": 57,
   "metadata": {
    "colab": {
     "base_uri": "https://localhost:8080/"
    },
    "id": "tWYfcbnOlWX3",
    "outputId": "f3285fb8-6da3-4ad0-f1a9-bd7072bc1f31",
    "scrolled": true
   },
   "outputs": [
    {
     "name": "stderr",
     "output_type": "stream",
     "text": [
      "Finding Elimination Order: : 100%|██████████| 6/6 [00:00<00:00, 1999.67it/s]\n",
      "Eliminating: ShortnessBreath: 100%|██████████| 6/6 [00:00<00:00, 386.81it/s]\n",
      "Finding Elimination Order: : 100%|██████████| 5/5 [00:00<00:00, 2464.63it/s]\n",
      "Eliminating: Cold: 100%|██████████| 5/5 [00:00<00:00, 495.65it/s]"
     ]
    },
    {
     "name": "stdout",
     "output_type": "stream",
     "text": [
      "+----------+--------------+\n",
      "| Fever    |   phi(Fever) |\n",
      "+==========+==============+\n",
      "| Fever(T) |       0.0159 |\n",
      "+----------+--------------+\n",
      "| Fever(F) |       0.9841 |\n",
      "+----------+--------------+\n",
      "+----------+--------------+\n",
      "| Fever    |   phi(Fever) |\n",
      "+==========+==============+\n",
      "| Fever(T) |       0.1104 |\n",
      "+----------+--------------+\n",
      "| Fever(F) |       0.8896 |\n",
      "+----------+--------------+\n"
     ]
    },
    {
     "name": "stderr",
     "output_type": "stream",
     "text": [
      "\n"
     ]
    }
   ],
   "source": [
    "dist = infer.query(['Fever'])\n",
    "print(dist)\n",
    "dist = infer.query(['Fever'], evidence={'Cough': 'T'})\n",
    "print(dist)"
   ]
  },
  {
   "cell_type": "markdown",
   "metadata": {
    "id": "cMMrS7DzkLOU"
   },
   "source": [
    "Having the knowledge that the person is coughing increases the probability of having fever."
   ]
  },
  {
   "cell_type": "markdown",
   "metadata": {
    "id": "0GJdWCaRlWX4"
   },
   "source": [
    "##### 4. Does having the knowledge that the person is coughing increase the probability that there is Fever, given the person has Cold?"
   ]
  },
  {
   "cell_type": "code",
   "execution_count": 58,
   "metadata": {
    "colab": {
     "base_uri": "https://localhost:8080/"
    },
    "id": "4PO9BR5clWX4",
    "outputId": "46b0da86-3ebe-4920-90c8-6c92e3b23a12"
   },
   "outputs": [
    {
     "name": "stderr",
     "output_type": "stream",
     "text": [
      "Finding Elimination Order: : 100%|██████████| 6/6 [00:00<00:00, 3227.63it/s]\n",
      "Eliminating: ShortnessBreath: 100%|██████████| 6/6 [00:00<00:00, 428.38it/s]\n",
      "Finding Elimination Order: : 100%|██████████| 4/4 [00:00<00:00, 2390.26it/s]\n",
      "Eliminating: LungDisease: 100%|██████████| 4/4 [00:00<00:00, 590.06it/s]\n",
      "Finding Elimination Order: : 100%|██████████| 4/4 [00:00<00:00, 2204.63it/s]\n",
      "Eliminating: LungDisease: 100%|██████████| 4/4 [00:00<00:00, 569.01it/s]"
     ]
    },
    {
     "name": "stdout",
     "output_type": "stream",
     "text": [
      "+----------+--------------+\n",
      "| Fever    |   phi(Fever) |\n",
      "+==========+==============+\n",
      "| Fever(T) |       0.0159 |\n",
      "+----------+--------------+\n",
      "| Fever(F) |       0.9841 |\n",
      "+----------+--------------+\n",
      "+----------+--------------+\n",
      "| Fever    |   phi(Fever) |\n",
      "+==========+==============+\n",
      "| Fever(T) |       0.3070 |\n",
      "+----------+--------------+\n",
      "| Fever(F) |       0.6930 |\n",
      "+----------+--------------+\n",
      "+----------+--------------+\n",
      "| Fever    |   phi(Fever) |\n",
      "+==========+==============+\n",
      "| Fever(T) |       0.3070 |\n",
      "+----------+--------------+\n",
      "| Fever(F) |       0.6930 |\n",
      "+----------+--------------+\n"
     ]
    },
    {
     "name": "stderr",
     "output_type": "stream",
     "text": [
      "\n"
     ]
    }
   ],
   "source": [
    "dist = infer.query(['Fever'])\n",
    "print(dist)\n",
    "dist = infer.query(['Fever'], evidence={'Cough': 'F', 'Cold': 'T'})\n",
    "print(dist)\n",
    "dist = infer.query(['Fever'], evidence={'Cough': 'T', 'Cold': 'T'})\n",
    "print(dist)"
   ]
  },
  {
   "cell_type": "markdown",
   "metadata": {
    "id": "TfIYj8qtktPd"
   },
   "source": [
    "Having the knowledge that the person is coughing does not increase the probability that there is Fever, given the person has Cold."
   ]
  },
  {
   "cell_type": "markdown",
   "metadata": {
    "id": "ehMRNq3jlWX4"
   },
   "source": [
    "##### 5. Does having the knowledge that the person has Fever increase the probability that there is Lung Disease?"
   ]
  },
  {
   "cell_type": "code",
   "execution_count": 59,
   "metadata": {
    "colab": {
     "base_uri": "https://localhost:8080/"
    },
    "id": "-14BLRMblWX4",
    "outputId": "6a1f820a-3468-4c8a-8cbf-dae571e32306"
   },
   "outputs": [
    {
     "name": "stderr",
     "output_type": "stream",
     "text": [
      "Finding Elimination Order: : 100%|██████████| 6/6 [00:00<00:00, 1626.33it/s]\n",
      "Eliminating: ShortnessBreath: 100%|██████████| 6/6 [00:00<00:00, 495.83it/s]\n",
      "Finding Elimination Order: : 100%|██████████| 5/5 [00:00<00:00, 1518.36it/s]\n",
      "Eliminating: ShortnessBreath: 100%|██████████| 5/5 [00:00<00:00, 513.44it/s]"
     ]
    },
    {
     "name": "stdout",
     "output_type": "stream",
     "text": [
      "+----------------+--------------------+\n",
      "| LungDisease    |   phi(LungDisease) |\n",
      "+================+====================+\n",
      "| LungDisease(T) |             0.0210 |\n",
      "+----------------+--------------------+\n",
      "| LungDisease(F) |             0.9790 |\n",
      "+----------------+--------------------+\n",
      "+----------------+--------------------+\n",
      "| LungDisease    |   phi(LungDisease) |\n",
      "+================+====================+\n",
      "| LungDisease(T) |             0.0210 |\n",
      "+----------------+--------------------+\n",
      "| LungDisease(F) |             0.9790 |\n",
      "+----------------+--------------------+\n"
     ]
    },
    {
     "name": "stderr",
     "output_type": "stream",
     "text": [
      "\n"
     ]
    }
   ],
   "source": [
    "dist = infer.query(['LungDisease'])\n",
    "print(dist)\n",
    "dist = infer.query(['LungDisease'], evidence={'Fever': 'T'})\n",
    "print(dist)"
   ]
  },
  {
   "cell_type": "markdown",
   "metadata": {
    "id": "4jEKny8Nlph8"
   },
   "source": [
    "Having the knowledge that the person has Fever does not increase the probability that there is Lung Disease."
   ]
  },
  {
   "cell_type": "markdown",
   "metadata": {
    "id": "zHZQw-KklWX4"
   },
   "source": [
    "#### The most probable state \n",
    "1. What's the most probable state of Cough? \n",
    "2. What's the most probable state of Cough given Cold is True? \n",
    "3. What's the most probable state of Cough given Cold is True and Lung Disease is True?"
   ]
  },
  {
   "cell_type": "markdown",
   "metadata": {
    "id": "6qtg-zbUlWX4"
   },
   "source": [
    "##### 1. What's the most probable state of Cough? "
   ]
  },
  {
   "cell_type": "code",
   "execution_count": 60,
   "metadata": {
    "colab": {
     "base_uri": "https://localhost:8080/"
    },
    "id": "YVmB61XqlWX4",
    "outputId": "7da611bc-fdee-4091-d5a1-5f016f5f599e"
   },
   "outputs": [
    {
     "name": "stderr",
     "output_type": "stream",
     "text": [
      "Finding Elimination Order: : 100%|██████████| 6/6 [00:00<00:00, 1409.69it/s]\n",
      "Eliminating: LungDisease: 100%|██████████| 6/6 [00:00<00:00, 400.63it/s]\n"
     ]
    },
    {
     "data": {
      "text/plain": [
       "{'Cough': 'F'}"
      ]
     },
     "execution_count": 60,
     "metadata": {
      "tags": []
     },
     "output_type": "execute_result"
    }
   ],
   "source": [
    "# Getting the most probable state of the variable (Q10) instead of calculating probability distribution (Q9)\n",
    "infer.map_query(['Cough'])"
   ]
  },
  {
   "cell_type": "markdown",
   "metadata": {
    "id": "JFnYKaDflWX5"
   },
   "source": [
    "The most probable state of Cough is False."
   ]
  },
  {
   "cell_type": "markdown",
   "metadata": {
    "id": "yPlXGL5KlWX5"
   },
   "source": [
    "##### 2. What's the most probable state of Cough given Cold is True? "
   ]
  },
  {
   "cell_type": "code",
   "execution_count": 61,
   "metadata": {
    "colab": {
     "base_uri": "https://localhost:8080/"
    },
    "id": "4A4_MOn8lWX5",
    "outputId": "6c347c1d-bdf0-499a-d416-fbd35b8835aa"
   },
   "outputs": [
    {
     "name": "stderr",
     "output_type": "stream",
     "text": [
      "Finding Elimination Order: : 100%|██████████| 5/5 [00:00<00:00, 1299.43it/s]\n",
      "Eliminating: LungDisease: 100%|██████████| 5/5 [00:00<00:00, 391.22it/s]\n"
     ]
    },
    {
     "data": {
      "text/plain": [
       "{'Cough': 'T'}"
      ]
     },
     "execution_count": 61,
     "metadata": {
      "tags": []
     },
     "output_type": "execute_result"
    }
   ],
   "source": [
    "infer.map_query(['Cough'], evidence={'Cold': 'T'})"
   ]
  },
  {
   "cell_type": "markdown",
   "metadata": {
    "id": "gY9gjYt0mpNc"
   },
   "source": [
    "The most probable state of Cough is True, given Cold is True."
   ]
  },
  {
   "cell_type": "markdown",
   "metadata": {
    "id": "yg8UTqcxlWX5"
   },
   "source": [
    "##### 3. What's the most probable state of Cough given Cold is True and Lung Disease is True?"
   ]
  },
  {
   "cell_type": "code",
   "execution_count": 62,
   "metadata": {
    "colab": {
     "base_uri": "https://localhost:8080/"
    },
    "id": "0ogRxithlWX5",
    "outputId": "30349844-7643-4338-a9ae-c73f045e7fe7"
   },
   "outputs": [
    {
     "name": "stderr",
     "output_type": "stream",
     "text": [
      "Finding Elimination Order: : 100%|██████████| 4/4 [00:00<00:00, 1117.36it/s]\n",
      "Eliminating: ShortnessBreath: 100%|██████████| 4/4 [00:00<00:00, 671.95it/s]\n"
     ]
    },
    {
     "data": {
      "text/plain": [
       "{'Cough': 'T'}"
      ]
     },
     "execution_count": 62,
     "metadata": {
      "tags": []
     },
     "output_type": "execute_result"
    }
   ],
   "source": [
    "infer.map_query(['Cough'], evidence={'Cold': 'T', 'LungDisease': 'T'})"
   ]
  },
  {
   "cell_type": "markdown",
   "metadata": {
    "id": "hzytQeHgm25f"
   },
   "source": [
    "The most probable state of Cough is True, given Cold is True and Lung Disease is True"
   ]
  },
  {
   "cell_type": "markdown",
   "metadata": {
    "id": "zfeQu_jPlWX5"
   },
   "source": [
    "# Well done!"
   ]
  }
 ],
 "metadata": {
  "colab": {
   "name": "Assignment 4.ipynb",
   "provenance": []
  },
  "kernelspec": {
   "display_name": "Python 3",
   "language": "python",
   "name": "python3"
  },
  "language_info": {
   "codemirror_mode": {
    "name": "ipython",
    "version": 3
   },
   "file_extension": ".py",
   "mimetype": "text/x-python",
   "name": "python",
   "nbconvert_exporter": "python",
   "pygments_lexer": "ipython3",
   "version": "3.7.4"
  },
  "toc": {
   "base_numbering": 1,
   "nav_menu": {},
   "number_sections": false,
   "sideBar": false,
   "skip_h1_title": false,
   "title_cell": "Table of Contents",
   "title_sidebar": "Contents",
   "toc_cell": false,
   "toc_position": {},
   "toc_section_display": false,
   "toc_window_display": false
  }
 },
 "nbformat": 4,
 "nbformat_minor": 1
}
